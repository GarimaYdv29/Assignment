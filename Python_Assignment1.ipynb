{
 "cells": [
  {
   "cell_type": "code",
   "execution_count": 2,
   "id": "0522e7e1-be1c-447f-9ccd-a5b64209dcc9",
   "metadata": {},
   "outputs": [
    {
     "name": "stdin",
     "output_type": "stream",
     "text": [
      "Enter the numbers :  23 45 6 7 8 8 -78 -9 23\n"
     ]
    },
    {
     "name": "stdout",
     "output_type": "stream",
     "text": [
      "Second largest number is: 23\n"
     ]
    }
   ],
   "source": [
    "#question : 1 <find second largest number in a list>\n",
    "\n",
    "nums = list(map(int,input(\"Enter the numbers : \").split())) \n",
    "unique_nums = []\n",
    "for i in nums:\n",
    "    if i not in unique_nums:\n",
    "        unique_nums.append(i)\n",
    "\n",
    "largest = second_largest = float('-inf')\n",
    "for i in unique_nums:\n",
    "    if i > largest:\n",
    "        second_largest = largest\n",
    "        largest = i\n",
    "    elif i > second_largest:\n",
    "        second_largest = i\n",
    "\n",
    "print(\"Second largest number is:\", second_largest)\n"
   ]
  },
  {
   "cell_type": "code",
   "execution_count": 3,
   "id": "1f434d9e-b11c-4f9d-984a-28b77382d2f6",
   "metadata": {},
   "outputs": [
    {
     "name": "stdin",
     "output_type": "stream",
     "text": [
      "Enter the numbers :  23 32 4 -9 0 10 32 4 10\n"
     ]
    },
    {
     "name": "stdout",
     "output_type": "stream",
     "text": [
      "Sorted list without duplicates: [-9, 0, 4, 10, 23, 32]\n"
     ]
    }
   ],
   "source": [
    "#question : 2 <remove duplicate and sort the list>\n",
    "nums = list(map(int,input(\"Enter the numbers : \").split())) \n",
    "unique_list = []\n",
    "for n in nums:\n",
    "    if n not in unique_list:\n",
    "        unique_list.append(n)\n",
    "\n",
    "for i in range(len(unique_list)):\n",
    "    for j in range(i + 1, len(unique_list)):\n",
    "        if unique_list[i] > unique_list[j]:\n",
    "            unique_list[i], unique_list[j] = unique_list[j], unique_list[i]\n",
    "\n",
    "print(\"Sorted list without duplicates:\", unique_list)"
   ]
  },
  {
   "cell_type": "code",
   "execution_count": 5,
   "id": "495e10de-029e-4735-a085-f22a4619748c",
   "metadata": {},
   "outputs": [
    {
     "name": "stdin",
     "output_type": "stream",
     "text": [
      "Enter the numbers :  1 2 3 5 54 2 34 0 -9 89 -0 \n"
     ]
    },
    {
     "name": "stdout",
     "output_type": "stream",
     "text": [
      "Sum: 181\n",
      "Average: 16.454545454545453\n"
     ]
    }
   ],
   "source": [
    "# question : 3 <sum and the average of the list of numbers>\n",
    "numbers = list(map(int,input(\"Enter the numbers : \").split())) \n",
    "\n",
    "total = 0\n",
    "for num in numbers:\n",
    "    total += num\n",
    "\n",
    "average = total / len(numbers)\n",
    "\n",
    "print(\"Sum:\", total)\n",
    "print(\"Average:\", average)"
   ]
  },
  {
   "cell_type": "code",
   "execution_count": 8,
   "id": "075f687d-6b8d-4558-93d1-2389ab29e37e",
   "metadata": {},
   "outputs": [
    {
     "name": "stdin",
     "output_type": "stream",
     "text": [
      "Enter a number:  73\n"
     ]
    },
    {
     "name": "stdout",
     "output_type": "stream",
     "text": [
      "Prime number\n"
     ]
    }
   ],
   "source": [
    "#question : 4 <Create a program to check if a number is prime.>\n",
    "num = int(input(\"Enter a number: \"))\n",
    "if num <= 1:\n",
    "    print(\"Not a prime number\")\n",
    "else:\n",
    "    for i in range(2, num):\n",
    "        if num % i == 0:\n",
    "            print(\"Not a prime number\")\n",
    "            break\n",
    "    else:\n",
    "        print(\"Prime number\")\n"
   ]
  },
  {
   "cell_type": "code",
   "execution_count": 12,
   "id": "12257fb9-0025-4237-a22d-f46029b0e40e",
   "metadata": {},
   "outputs": [
    {
     "name": "stdin",
     "output_type": "stream",
     "text": [
      "Enter a string:  garydy06r4t24+_+\"A\n"
     ]
    },
    {
     "name": "stdout",
     "output_type": "stream",
     "text": [
      "Vowels: 2\n",
      "Consonants: 7\n",
      "Digits: 5\n",
      "Special characters: 4\n"
     ]
    }
   ],
   "source": [
    "#question : 5<Count the number of vowels, consonants, digits, and special characters in a given string.>\n",
    "string = input(\"Enter a string: \")\n",
    "vowels = consonants = digits = specials = 0\n",
    "for char in string:\n",
    "    if char.lower() in 'aeiou':\n",
    "        vowels += 1\n",
    "    elif char.isalpha():\n",
    "        consonants += 1\n",
    "    elif char.isdigit():\n",
    "        digits += 1\n",
    "    else:\n",
    "        specials += 1\n",
    "\n",
    "print(\"Vowels:\", vowels)\n",
    "print(\"Consonants:\", consonants)\n",
    "print(\"Digits:\", digits)\n",
    "print(\"Special characters:\", specials)\n"
   ]
  },
  {
   "cell_type": "code",
   "execution_count": 15,
   "id": "5ebdacad-b27e-432f-83d1-b96f47c38dc2",
   "metadata": {},
   "outputs": [
    {
     "name": "stdout",
     "output_type": "stream",
     "text": [
      "2 4 6 8 10 12 14 16 18 20 22 24 26 28 30 32 34 36 38 40 42 44 46 48 50 52 54 56 58 60 62 64 66 68 70 72 74 76 78 80 82 84 86 88 90 92 94 96 98 100 "
     ]
    }
   ],
   "source": [
    "#question : 6 < Print all even numbers between 1 and 100 using a for loop.>\n",
    "for i in range(1,101):\n",
    "    if i%2==0:\n",
    "        print (i,end=\" \")\n",
    "        "
   ]
  },
  {
   "cell_type": "code",
   "execution_count": 20,
   "id": "09b1defc-7a7a-40b5-b1d7-9f8725244a2b",
   "metadata": {},
   "outputs": [
    {
     "name": "stdin",
     "output_type": "stream",
     "text": [
      "Enter the number :  2\n"
     ]
    },
    {
     "name": "stdout",
     "output_type": "stream",
     "text": [
      "2  *  1  =  2\n",
      "2  *  2  =  4\n",
      "2  *  3  =  6\n",
      "2  *  4  =  8\n",
      "2  *  5  =  10\n",
      "2  *  6  =  12\n",
      "2  *  7  =  14\n",
      "2  *  8  =  16\n",
      "2  *  9  =  18\n",
      "2  *  10  =  20\n"
     ]
    }
   ],
   "source": [
    "#question : 7 <Write a program to print the multiplication table of a number entered by the user.>\n",
    "num = int(input(\"Enter the number : \"))\n",
    "for i in range(1,11):\n",
    "    print(num,\" * \",i,\" = \",num*i)"
   ]
  },
  {
   "cell_type": "code",
   "execution_count": 21,
   "id": "1e8dc7b4-2bae-4602-b0c7-d612603f34bd",
   "metadata": {},
   "outputs": [
    {
     "name": "stdout",
     "output_type": "stream",
     "text": [
      "Numbers divisible by both 3 and 5:\n",
      "[15, 30, 45, 60, 75, 90]\n"
     ]
    }
   ],
   "source": [
    "# question : 8 <Numbers divisible by both 3 and 5>\n",
    "\n",
    "divisible_by_3_and_5 = []\n",
    "\n",
    "for i in range(1, 101):\n",
    "    if i % 3 == 0 and i % 5 == 0:\n",
    "        divisible_by_3_and_5.append(i)\n",
    "\n",
    "print(\"Numbers divisible by both 3 and 5:\")\n",
    "print(divisible_by_3_and_5)\n"
   ]
  },
  {
   "cell_type": "code",
   "execution_count": 22,
   "id": "6887ccd4-bf32-4d6c-b91b-31dcb3378ce4",
   "metadata": {},
   "outputs": [
    {
     "name": "stdin",
     "output_type": "stream",
     "text": [
      "Enter a number:  2345\n"
     ]
    },
    {
     "name": "stdout",
     "output_type": "stream",
     "text": [
      "Reversed number: 5432\n"
     ]
    }
   ],
   "source": [
    "# question: 9< Reverse of a number>\n",
    "\n",
    "num = int(input(\"Enter a number: \"))\n",
    "rev = 0\n",
    "temp = num\n",
    "\n",
    "while temp != 0:\n",
    "    digit = temp % 10\n",
    "    rev = rev * 10 + digit\n",
    "    temp //= 10\n",
    "\n",
    "print(\"Reversed number:\", rev)\n"
   ]
  },
  {
   "cell_type": "code",
   "execution_count": 27,
   "id": "af976384-2434-4237-8b1c-75166c09dd01",
   "metadata": {},
   "outputs": [
    {
     "name": "stdin",
     "output_type": "stream",
     "text": [
      "Enter a string:  jhfvlaidblahvluVDBVBLUJSLVAV\n"
     ]
    },
    {
     "name": "stdout",
     "output_type": "stream",
     "text": [
      "Character frequency:\n",
      "{'j': 1, 'h': 2, 'f': 1, 'v': 2, 'l': 3, 'a': 2, 'i': 1, 'd': 1, 'b': 1, 'u': 1, 'V': 4, 'D': 1, 'B': 2, 'L': 2, 'U': 1, 'J': 1, 'S': 1, 'A': 1}\n"
     ]
    }
   ],
   "source": [
    "# question : 10 < Frequency of each character >\n",
    "string = input(\"Enter a string: \")\n",
    "freq_dict = {}\n",
    "\n",
    "for char in string:\n",
    "    if char in freq_dict:\n",
    "        freq_dict[char] += 1\n",
    "    else:\n",
    "        freq_dict[char] = 1\n",
    "print(freq_dict)\n"
   ]
  },
  {
   "cell_type": "code",
   "execution_count": 35,
   "id": "c938602b-43d3-4d00-bb32-9c0ab18f41d8",
   "metadata": {},
   "outputs": [
    {
     "name": "stdin",
     "output_type": "stream",
     "text": [
      "Enter how many prime numbers you want:  6\n"
     ]
    },
    {
     "name": "stdout",
     "output_type": "stream",
     "text": [
      "The first 6 prime numbers are: [2, 3, 5, 7, 11, 13]\n"
     ]
    }
   ],
   "source": [
    "# question : 11 Generate the first n prime numbers\n",
    "\n",
    "n = int(input(\"Enter how many prime numbers you want: \"))\n",
    "primes = []\n",
    "num = 2  # Starting number\n",
    "\n",
    "while len(primes) < n:\n",
    "    for i in range(2, int(num**0.5) + 1):\n",
    "        if num % i == 0:\n",
    "            break\n",
    "    else:\n",
    "        primes.append(num)\n",
    "    num += 1\n",
    "\n",
    "print(f\"The first {n} prime numbers are:\", primes)\n",
    "\n"
   ]
  },
  {
   "cell_type": "code",
   "execution_count": 36,
   "id": "7ce54270-c8b9-4273-b9ea-f12070cd1c42",
   "metadata": {},
   "outputs": [
    {
     "name": "stdin",
     "output_type": "stream",
     "text": [
      "Enter a number:  747547\n"
     ]
    },
    {
     "name": "stdout",
     "output_type": "stream",
     "text": [
      "Not a palindrome\n"
     ]
    }
   ],
   "source": [
    "# 12. Check if a number is a palindrome\n",
    "\n",
    "num = int(input(\"Enter a number: \"))\n",
    "original = num\n",
    "reverse = 0\n",
    "\n",
    "while num > 0:\n",
    "    digit = num % 10\n",
    "    reverse = reverse * 10 + digit\n",
    "    num //= 10\n",
    "\n",
    "if original == reverse:\n",
    "    print(\"Palindrome number\")\n",
    "else:\n",
    "    print(\"Not a palindrome\")\n"
   ]
  },
  {
   "cell_type": "code",
   "execution_count": 38,
   "id": "d0f677b8-323c-4d5b-9df4-cd6cd825c6bc",
   "metadata": {},
   "outputs": [
    {
     "name": "stdin",
     "output_type": "stream",
     "text": [
      "Enter the numbers :  4 5 6 2 4 2 5 6 4 3\n",
      "Enter the element to count:  4\n"
     ]
    },
    {
     "name": "stdout",
     "output_type": "stream",
     "text": [
      "The element 4 appears 3 times.\n"
     ]
    }
   ],
   "source": [
    "# 13. Count occurrences of a specific element in a list\n",
    "\n",
    "nums = list(map(int,input(\"Enter the numbers : \").split()))\n",
    "element = int(input(\"Enter the element to count: \"))\n",
    "\n",
    "count = 0\n",
    "for num in nums:\n",
    "    if num == element:\n",
    "        count += 1\n",
    "\n",
    "print(f\"The element {element} appears {count} times.\")\n"
   ]
  },
  {
   "cell_type": "code",
   "execution_count": 40,
   "id": "2d1c2456-dc73-47da-ac19-521ddc908207",
   "metadata": {},
   "outputs": [
    {
     "name": "stdout",
     "output_type": "stream",
     "text": [
      "Squares of even numbers between 1 and 50: [4, 16, 36, 64, 100, 144, 196, 256, 324, 400, 484, 576, 676, 784, 900, 1024, 1156, 1296, 1444, 1600, 1764, 1936, 2116, 2304, 2500]\n"
     ]
    }
   ],
   "source": [
    "# 14. Squares of even numbers between 1 and 50\n",
    "\n",
    "squares = []\n",
    "\n",
    "for i in range(2, 51, 2):\n",
    "    squares.append(i**2)\n",
    "\n",
    "print(\"Squares of even numbers between 1 and 50:\", squares)\n"
   ]
  },
  {
   "cell_type": "code",
   "execution_count": 41,
   "id": "4c550794-4884-4fe7-a04c-ea9ba7f21664",
   "metadata": {},
   "outputs": [
    {
     "name": "stdout",
     "output_type": "stream",
     "text": [
      "List with unique elements: [1, 2, 3, 4, 5]\n"
     ]
    }
   ],
   "source": [
    "# 15. Create list with only unique elements preserving order\n",
    "\n",
    "original_list = [1, 2, 3, 2, 4, 1, 5, 3]\n",
    "unique_list = []\n",
    "\n",
    "for item in original_list:\n",
    "    if item not in unique_list:\n",
    "        unique_list.append(item)\n",
    "\n",
    "print(\"List with unique elements:\", unique_list)\n"
   ]
  },
  {
   "cell_type": "code",
   "execution_count": 42,
   "id": "97e8e818-1208-4c3d-87f2-51a84222d172",
   "metadata": {},
   "outputs": [
    {
     "name": "stdout",
     "output_type": "stream",
     "text": [
      "Even\n"
     ]
    }
   ],
   "source": [
    "#question 16\n",
    "def is_even_or_odd(num):\n",
    "    if num % 2 == 0:\n",
    "        return \"Even\"\n",
    "    else:\n",
    "        return \"Odd\"\n",
    "print(is_even_or_odd(8))\n"
   ]
  },
  {
   "cell_type": "code",
   "execution_count": 43,
   "id": "916cdd4c-4e9f-47ca-b508-7fe20b415ad1",
   "metadata": {},
   "outputs": [
    {
     "name": "stdout",
     "output_type": "stream",
     "text": [
      "[1, 3, 6, 10]\n"
     ]
    }
   ],
   "source": [
    "# question 17\n",
    "def cumulative_sum(lst):\n",
    "    result = []\n",
    "    total = 0\n",
    "    for num in lst:\n",
    "        total += num\n",
    "        result.append(total)\n",
    "    return result\n",
    "\n",
    "print(cumulative_sum([1, 2, 3, 4]))\n"
   ]
  },
  {
   "cell_type": "code",
   "execution_count": 44,
   "id": "5e153ecf-7603-46d0-ac37-750a80d9ebca",
   "metadata": {},
   "outputs": [
    {
     "name": "stdout",
     "output_type": "stream",
     "text": [
      "120\n"
     ]
    }
   ],
   "source": [
    "# question 18\n",
    "def factorial(n):\n",
    "    if n == 0 or n == 1:\n",
    "        return 1\n",
    "    return n * factorial(n - 1)\n",
    "\n",
    "print(factorial(5))\n"
   ]
  },
  {
   "cell_type": "code",
   "execution_count": null,
   "id": "a8aeba04-a9f8-4d45-8564-a437b431837d",
   "metadata": {},
   "outputs": [],
   "source": [
    "# question 19\n",
    "def fibonacci(n):\n",
    "    a, b = 0, 1\n",
    "    series = []\n",
    "    count = 0 \n",
    "    while count < n :\n",
    "        series.append(a)\n",
    "        a, b = b, a + b\n",
    "    return series\n",
    "\n",
    "print(fibonacci(10))\n"
   ]
  },
  {
   "cell_type": "code",
   "execution_count": 1,
   "id": "27ad2414-869f-4e52-bb55-749d165b1e8c",
   "metadata": {},
   "outputs": [
    {
     "name": "stdin",
     "output_type": "stream",
     "text": [
      "Enter a string:  2352\n"
     ]
    },
    {
     "name": "stdout",
     "output_type": "stream",
     "text": [
      "The string is not a palindrome.\n"
     ]
    }
   ],
   "source": [
    "#question 20\n",
    "def is_palindrome(s):\n",
    "    return s == s[::-1]\n",
    "\n",
    "string = input(\"Enter a string: \")\n",
    "if is_palindrome(string):\n",
    "    print(\"The string is a palindrome.\")\n",
    "else:\n",
    "    print(\"The string is not a palindrome.\")\n"
   ]
  },
  {
   "cell_type": "code",
   "execution_count": 2,
   "id": "3e3ed660-187d-49dd-9f40-7c114c7325b8",
   "metadata": {},
   "outputs": [
    {
     "name": "stdin",
     "output_type": "stream",
     "text": [
      "Enter numbers separated by space:  12 32 53 12 5 8\n"
     ]
    },
    {
     "name": "stdout",
     "output_type": "stream",
     "text": [
      "Maximum: 53\n",
      "Minimum: 5\n"
     ]
    }
   ],
   "source": [
    "# question 21\n",
    "def find_max_min(lst):\n",
    "    return max(lst), min(lst)\n",
    "\n",
    "numbers = list(map(int, input(\"Enter numbers separated by space: \").split()))\n",
    "maximum, minimum = find_max_min(numbers)\n",
    "print(\"Maximum:\", maximum)\n",
    "print(\"Minimum:\", minimum)\n"
   ]
  },
  {
   "cell_type": "code",
   "execution_count": 3,
   "id": "ca893957-1ebe-43ab-a132-fcf85ec944c4",
   "metadata": {},
   "outputs": [
    {
     "name": "stdin",
     "output_type": "stream",
     "text": [
      "Enter a sentence:  22222222\n"
     ]
    },
    {
     "name": "stdout",
     "output_type": "stream",
     "text": [
      "It is not a pangram.\n"
     ]
    }
   ],
   "source": [
    "# question 22\n",
    "import string\n",
    "\n",
    "def is_pangram(s):\n",
    "    alphabets = set(string.ascii_lowercase)\n",
    "    return set(s.lower()) >= alphabets\n",
    "\n",
    "\n",
    "sentence = input(\"Enter a sentence: \")\n",
    "if is_pangram(sentence):\n",
    "    print(\"It is a pangram.\")\n",
    "else:\n",
    "    print(\"It is not a pangram.\")\n"
   ]
  },
  {
   "cell_type": "code",
   "execution_count": 4,
   "id": "77b9cc78-e1af-43bb-956f-f1880873a81b",
   "metadata": {},
   "outputs": [
    {
     "name": "stdin",
     "output_type": "stream",
     "text": [
      "Enter start of range:  5\n",
      "Enter end of range:  89\n"
     ]
    },
    {
     "name": "stdout",
     "output_type": "stream",
     "text": [
      "Prime numbers: [5, 7, 11, 13, 17, 19, 23, 29, 31, 37, 41, 43, 47, 53, 59, 61, 67, 71, 73, 79, 83, 89]\n"
     ]
    }
   ],
   "source": [
    "#question 23\n",
    "def find_primes(start, end):\n",
    "    primes = []\n",
    "    for num in range(start, end + 1):\n",
    "        if num > 1:\n",
    "            for i in range(2, int(num**0.5) + 1):\n",
    "                if num % i == 0:\n",
    "                    break\n",
    "            else:\n",
    "                primes.append(num)\n",
    "    return primes\n",
    "start = int(input(\"Enter start of range: \"))\n",
    "end = int(input(\"Enter end of range: \"))\n",
    "print(\"Prime numbers:\", find_primes(start, end))\n"
   ]
  },
  {
   "cell_type": "code",
   "execution_count": 5,
   "id": "e0e3ff1e-7f4d-4459-92f8-d9980334edbb",
   "metadata": {},
   "outputs": [
    {
     "name": "stdin",
     "output_type": "stream",
     "text": [
      "Enter a string:  weftrhHVVOhH\n"
     ]
    },
    {
     "name": "stdout",
     "output_type": "stream",
     "text": [
      "Uppercase letters: 5\n",
      "Lowercase letters: 7\n"
     ]
    }
   ],
   "source": [
    "#question 24\n",
    "def count_case(s):\n",
    "    upper = lower = 0\n",
    "    for char in s:\n",
    "        if char.isupper():\n",
    "            upper += 1\n",
    "        elif char.islower():\n",
    "            lower += 1\n",
    "    return upper, lower\n",
    "\n",
    "string = input(\"Enter a string: \")\n",
    "upper, lower = count_case(string)\n",
    "print(\"Uppercase letters:\", upper)\n",
    "print(\"Lowercase letters:\", lower)\n"
   ]
  },
  {
   "cell_type": "code",
   "execution_count": null,
   "id": "3e2be7e4-b3c2-46d3-a19a-6f2df8312faa",
   "metadata": {},
   "outputs": [],
   "source": [
    "#question 25\n",
    "def sum_of_digits(num):\n",
    "    return sum(int(digit) for digit in str(num))\n",
    "num = int(input(\"Enter a number: \"))\n",
    "print(\"Sum of digits:\", sum_of_digits(num))\n"
   ]
  },
  {
   "cell_type": "code",
   "execution_count": null,
   "id": "3f635048-4a79-494d-b2b7-0175faf1b554",
   "metadata": {},
   "outputs": [],
   "source": [
    "#question 26\n",
    "def count_words(sentence):\n",
    "    words = sentence.split()\n",
    "    return len(words)\n",
    "\n",
    "# Input from user\n",
    "sentence = input(\"Enter a sentence: \")\n",
    "print(\"Number of words:\", count_words(sentence))\n"
   ]
  },
  {
   "cell_type": "code",
   "execution_count": null,
   "id": "0cfa3ad9-bbca-40d6-a2a6-9e180cc31227",
   "metadata": {},
   "outputs": [],
   "source": [
    "#question 27\n",
    "import string\n",
    "\n",
    "def remove_punctuation(text):\n",
    "    return ''.join(char for char in text if char not in string.punctuation)\n",
    "\n",
    "text = input(\"Enter a string with punctuation: \")\n",
    "clean_text = remove_punctuation(text)\n",
    "print(\"String without punctuation:\", clean_text)\n"
   ]
  },
  {
   "cell_type": "code",
   "execution_count": null,
   "id": "10e9272f-7d99-42d2-9ae8-052268936ff7",
   "metadata": {},
   "outputs": [],
   "source": [
    "#question 28\n",
    "def find_gcd(a, b):\n",
    "    while b:\n",
    "        a, b = b, a % b\n",
    "    return a\n",
    "num1 = int(input(\"Enter first number: \"))\n",
    "num2 = int(input(\"Enter second number: \"))\n",
    "print(\"GCD is:\", find_gcd(num1, num2))\n"
   ]
  },
  {
   "cell_type": "code",
   "execution_count": null,
   "id": "1326a385-376e-429e-bb91-d264c14c1e49",
   "metadata": {},
   "outputs": [],
   "source": [
    "#question 29\n",
    "def find_duplicates(lst):\n",
    "    duplicates = []\n",
    "    seen = set()\n",
    "    for item in lst:\n",
    "        if item in seen and item not in duplicates:\n",
    "            duplicates.append(item)\n",
    "        else:\n",
    "            seen.add(item)\n",
    "    return duplicates\n",
    "numbers = list(map(int, input(\"Enter numbers separated by space: \").split()))\n",
    "print(\"Duplicates:\", find_duplicates(numbers))\n"
   ]
  },
  {
   "cell_type": "code",
   "execution_count": null,
   "id": "5f904d6b-1903-4ec0-a2d3-0042712baf8f",
   "metadata": {},
   "outputs": [],
   "source": [
    "#question 30\n",
    "def largest_of_three(a, b, c):\n",
    "    return max(a, b, c)\n",
    "\n",
    "a = int(input(\"Enter first number: \"))\n",
    "b = int(input(\"Enter second number: \"))\n",
    "c = int(input(\"Enter third number: \"))\n",
    "print(\"Largest number is:\", largest_of_three(a, b, c))\n"
   ]
  },
  {
   "cell_type": "code",
   "execution_count": null,
   "id": "f0c0d041-2a32-4ab1-a17f-7191071196a2",
   "metadata": {},
   "outputs": [],
   "source": [
    "#question 31\n",
    "def sort_words(sentence):\n",
    "    words = sentence.split()\n",
    "    words.sort()\n",
    "    return ' '.join(words)\n",
    "sentence = input(\"Enter a sentence: \")\n",
    "print(\"Sorted words:\", sort_words(sentence))\n"
   ]
  },
  {
   "cell_type": "code",
   "execution_count": null,
   "id": "d3a2f35e-1733-4b6f-9a55-6edaeff245b9",
   "metadata": {},
   "outputs": [],
   "source": [
    "#question 32\n",
    "def concatenate_dicts(dict1, dict2):\n",
    "    return {**dict1, **dict2}\n",
    "\n",
    "dict1 = eval(input(\"Enter first dictionary (e.g., {'a':1}): \"))\n",
    "dict2 = eval(input(\"Enter second dictionary (e.g., {'b':2}): \"))\n",
    "print(\"Concatenated Dictionary:\", concatenate_dicts(dict1, dict2))\n"
   ]
  },
  {
   "cell_type": "code",
   "execution_count": null,
   "id": "cc4a43ea-db4f-417f-ae16-7cadbe8e7a35",
   "metadata": {},
   "outputs": [],
   "source": [
    "#question 33\n",
    "def count_vowels_each_word(sentence):\n",
    "    vowels = 'aeiouAEIOU'\n",
    "    words = sentence.split()\n",
    "    counts = {word: sum(1 for char in word if char in vowels) for word in words}\n",
    "    return counts\n",
    "\n",
    "sentence = input(\"Enter a sentence: \")\n",
    "print(\"Vowel count per word:\", count_vowels_each_word(sentence))\n"
   ]
  },
  {
   "cell_type": "code",
   "execution_count": null,
   "id": "947afe01-a335-432b-97fd-7f7ee47e44ea",
   "metadata": {},
   "outputs": [],
   "source": [
    "#question 34\n",
    "def tuple_to_list(tup):\n",
    "    return list(tup)\n",
    "tup = eval(input(\"Enter a tuple (e.g., (1, 2, 3)): \"))\n",
    "print(\"Converted List:\", tuple_to_list(tup))\n"
   ]
  },
  {
   "cell_type": "code",
   "execution_count": null,
   "id": "3e477504-d859-47a3-acce-96ee42ebb640",
   "metadata": {},
   "outputs": [],
   "source": [
    "#question 35\n",
    "def remove_whitespace(text):\n",
    "    return ''.join(text.split())\n",
    "text = input(\"Enter a string with whitespaces: \")\n",
    "print(\"Without whitespaces:\", remove_whitespace(text))\n"
   ]
  },
  {
   "cell_type": "code",
   "execution_count": null,
   "id": "6bb1e28d-c1b0-4083-9bc7-bee3dacb65d6",
   "metadata": {},
   "outputs": [],
   "source": [
    "#question 36\n",
    "def merge_lists(keys, values):\n",
    "    return dict(zip(keys, values))\n",
    "\n",
    "keys = input(\"Enter keys separated by space: \").split()\n",
    "values = input(\"Enter values separated by space: \").split()\n",
    "print(\"Merged Dictionary:\", merge_lists(keys, values))\n"
   ]
  },
  {
   "cell_type": "code",
   "execution_count": null,
   "id": "9b3bda4d-12b6-474d-a8dc-064a33f82bd7",
   "metadata": {},
   "outputs": [],
   "source": [
    "#question 37\n",
    "def max_value_key(d):\n",
    "    return max(d, key=d.get)\n",
    "\n",
    "d = eval(input(\"Enter a dictionary (e.g., {'a':10, 'b':15}): \"))\n",
    "print(\"Key with max value:\", max_value_key(d))\n"
   ]
  },
  {
   "cell_type": "code",
   "execution_count": null,
   "id": "16c66095-64b6-43fe-83e0-c8bcd409e106",
   "metadata": {},
   "outputs": [],
   "source": [
    "#question 38\n",
    "def word_frequencies(text):\n",
    "    words = text.split()\n",
    "    freq = {}\n",
    "    for word in words:\n",
    "        freq[word] = freq.get(word, 0) + 1\n",
    "    return freq\n",
    "text = input(\"Enter a string: \")\n",
    "print(\"Word Frequencies:\", word_frequencies(text))\n"
   ]
  },
  {
   "cell_type": "code",
   "execution_count": null,
   "id": "0e74e36c-c25d-4fa1-801d-ae0725f010d0",
   "metadata": {},
   "outputs": [],
   "source": [
    "#question 39\n",
    "def key_exists(d, key):\n",
    "    return key in d\n",
    "d = eval(input(\"Enter a dictionary (e.g., {'x':1, 'y':2}): \"))\n",
    "key = input(\"Enter key to check: \")\n",
    "if key_exists(d, key):\n",
    "    print(\"Key exists.\")\n",
    "else:\n",
    "    print(\"Key does not exist.\")\n"
   ]
  },
  {
   "cell_type": "code",
   "execution_count": null,
   "id": "6c7da707-8ee2-4dba-8f1f-f5b438d88b83",
   "metadata": {},
   "outputs": [],
   "source": [
    "#question 40\n",
    "def replace_vowels(text):\n",
    "    vowels = 'aeiouAEIOU'\n",
    "    return ''.join('*' if char in vowels else char for char in text)\n",
    "\n",
    "text = input(\"Enter a string: \")\n",
    "print(\"Modified string:\", replace_vowels(text))\n"
   ]
  },
  {
   "cell_type": "code",
   "execution_count": null,
   "id": "48a47c55-85f0-43ad-a5e3-5980721f17b8",
   "metadata": {},
   "outputs": [],
   "source": [
    "#question 41\n",
    "filename = input(\"Enter the filename to read: \")\n",
    "file = open(filename, 'r')\n",
    "content = file.read()\n",
    "file.close()\n",
    "\n",
    "print(\"File Content:\\n\", content)\n"
   ]
  },
  {
   "cell_type": "code",
   "execution_count": null,
   "id": "788ceb5f-2405-45d0-8782-2fb73fe3df0c",
   "metadata": {},
   "outputs": [],
   "source": [
    "#question 42\n",
    "filename = input(\"Enter the filename to count words: \")\n",
    "file = open(filename, 'r')\n",
    "text = file.read()\n",
    "file.close()\n",
    "\n",
    "words = text.split()\n",
    "print(\"Total words:\", len(words))\n"
   ]
  },
  {
   "cell_type": "code",
   "execution_count": null,
   "id": "8730362a-89ed-48d8-8304-0b8072d2d75c",
   "metadata": {},
   "outputs": [],
   "source": [
    "#question 43\n",
    "source_file = input(\"Enter source filename: \")\n",
    "destination_file = input(\"Enter destination filename: \")\n",
    "\n",
    "src = open(source_file, 'r')\n",
    "data = src.read()\n",
    "src.close()\n",
    "\n",
    "dest = open(destination_file, 'w')\n",
    "dest.write(data)\n",
    "dest.close()\n",
    "\n",
    "print(\"Contents copied successfully.\")\n"
   ]
  },
  {
   "cell_type": "code",
   "execution_count": null,
   "id": "b7c903d0-38e1-4b2b-b97d-0c2696a91449",
   "metadata": {},
   "outputs": [],
   "source": [
    "#question 44\n",
    "filename = input(\"Enter the filename: \")\n",
    "file = open(filename, 'r')\n",
    "\n",
    "print(\"Lines with more than 50 characters:\\n\")\n",
    "for line in file:\n",
    "    if len(line.strip()) > 50:\n",
    "        print(line.strip())\n",
    "\n",
    "file.close()\n"
   ]
  },
  {
   "cell_type": "code",
   "execution_count": null,
   "id": "09573fad-1b6a-4e47-aea1-d4b36ca9834c",
   "metadata": {},
   "outputs": [],
   "source": [
    "#question 45\n",
    "n = int(input(\"Enter number of strings: \"))\n",
    "strings = [input(f\"Enter string {i+1}: \") for i in range(n)]\n",
    "filename = input(\"Enter filename to save strings: \")\n",
    "\n",
    "file = open(filename, 'w')\n",
    "for s in strings:\n",
    "    file.write(s + '\\n')\n",
    "file.close()\n",
    "\n",
    "print(\"Strings written to file.\")\n"
   ]
  },
  {
   "cell_type": "code",
   "execution_count": null,
   "id": "7fa07932-ec74-4e5d-828c-2bd552588fb6",
   "metadata": {},
   "outputs": [],
   "source": [
    "#question 46\n",
    "def safe_division(a, b):\n",
    "    try:\n",
    "        result = a / b\n",
    "        print(\"Result:\", result)\n",
    "    except ZeroDivisionError:\n",
    "        print(\"Error: Cannot divide by zero.\")\n",
    "\n",
    "# Input\n",
    "a = int(input(\"Enter numerator: \"))\n",
    "b = int(input(\"Enter denominator: \"))\n",
    "safe_division(a, b)\n"
   ]
  },
  {
   "cell_type": "code",
   "execution_count": null,
   "id": "8d020a51-7463-42e2-ab5e-dcce8e363f05",
   "metadata": {},
   "outputs": [],
   "source": [
    "#question 47\n",
    "try:\n",
    "    num = int(input(\"Enter a number: \"))\n",
    "    print(\"You entered:\", num)\n",
    "except ValueError:\n",
    "    print(\"Invalid input! Please enter a numeric value.\")\n"
   ]
  },
  {
   "cell_type": "code",
   "execution_count": null,
   "id": "441ab85c-97a7-4975-beee-235be5e704fc",
   "metadata": {},
   "outputs": [],
   "source": [
    "#question 48\n",
    "filename = input(\"Enter filename to open: \")\n",
    "try:\n",
    "    file = open(filename, 'r')\n",
    "    content = file.read()\n",
    "    file.close()\n",
    "    print(\"File content:\\n\", content)\n",
    "except FileNotFoundError:\n",
    "    print(\"Error: File not found.\")\n"
   ]
  },
  {
   "cell_type": "code",
   "execution_count": null,
   "id": "b553d2e9-ecce-4780-bf5d-302989824815",
   "metadata": {},
   "outputs": [],
   "source": [
    "#question 49\n",
    "numbers = [10, 20, 30, 40, 50]\n",
    "\n",
    "try:\n",
    "    index = int(input(\"Enter index to access: \"))\n",
    "    print(\"Value at index:\", numbers[index])\n",
    "except IndexError:\n",
    "    print(\"Error: Index out of range.\")\n"
   ]
  },
  {
   "cell_type": "code",
   "execution_count": null,
   "id": "8ff9137a-f5f1-44f5-8473-20b4c9b5b0b0",
   "metadata": {},
   "outputs": [],
   "source": [
    "#question 50\n",
    "try:\n",
    "    x = int(input(\"Enter a number: \"))\n",
    "    y = int(input(\"Enter another number: \"))\n",
    "    print(\"Result:\", x / y)\n",
    "except ZeroDivisionError:\n",
    "    print(\"Cannot divide by zero.\")\n",
    "finally:\n",
    "    print(\"This will always execute, no matter what.\")\n"
   ]
  }
 ],
 "metadata": {
  "kernelspec": {
   "display_name": "Python [conda env:base] *",
   "language": "python",
   "name": "conda-base-py"
  },
  "language_info": {
   "codemirror_mode": {
    "name": "ipython",
    "version": 3
   },
   "file_extension": ".py",
   "mimetype": "text/x-python",
   "name": "python",
   "nbconvert_exporter": "python",
   "pygments_lexer": "ipython3",
   "version": "3.12.7"
  }
 },
 "nbformat": 4,
 "nbformat_minor": 5
}
